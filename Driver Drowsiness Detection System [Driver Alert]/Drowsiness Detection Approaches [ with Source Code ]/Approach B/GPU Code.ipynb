{
 "cells": [
  {
   "cell_type": "code",
   "execution_count": 1,
   "id": "2777c948",
   "metadata": {},
   "outputs": [
    {
     "data": {
      "text/plain": [
       "[PhysicalDevice(name='/physical_device:GPU:0', device_type='GPU')]"
      ]
     },
     "execution_count": 1,
     "metadata": {},
     "output_type": "execute_result"
    }
   ],
   "source": [
    "import tensorflow as tf\n",
    "from tensorflow.python.client import device_lib\n",
    "tf.config.list_physical_devices('GPU')"
   ]
  },
  {
   "cell_type": "code",
   "execution_count": 2,
   "id": "671d5514",
   "metadata": {},
   "outputs": [
    {
     "data": {
      "text/plain": [
       "[name: \"/device:CPU:0\"\n",
       " device_type: \"CPU\"\n",
       " memory_limit: 268435456\n",
       " locality {\n",
       " }\n",
       " incarnation: 13706575592488834111\n",
       " xla_global_id: -1,\n",
       " name: \"/device:GPU:0\"\n",
       " device_type: \"GPU\"\n",
       " memory_limit: 1433917851\n",
       " locality {\n",
       "   bus_id: 1\n",
       "   links {\n",
       "   }\n",
       " }\n",
       " incarnation: 2234059112605372495\n",
       " physical_device_desc: \"device: 0, name: NVIDIA GeForce MX110, pci bus id: 0000:01:00.0, compute capability: 5.0\"\n",
       " xla_global_id: 416903419]"
      ]
     },
     "execution_count": 2,
     "metadata": {},
     "output_type": "execute_result"
    }
   ],
   "source": [
    "device_lib.list_local_devices()"
   ]
  },
  {
   "cell_type": "code",
   "execution_count": 3,
   "id": "cf1e6ac9",
   "metadata": {},
   "outputs": [
    {
     "name": "stdout",
     "output_type": "stream",
     "text": [
      "Running tensorflow version: 2.7.0\n",
      "Running tensorflow.keras version: 2.7.0\n",
      "Running keras version: 2.7.0\n",
      "Num GPUs Available:  1\n",
      "1 Physical GPUs, 1 Logical GPUs\n"
     ]
    }
   ],
   "source": [
    "#print(\"Runnning Jupyter Notebook using python version: {}\".format(python_version()))\n",
    "print(\"Running tensorflow version: {}\".format(tf.keras.__version__))\n",
    "print(\"Running tensorflow.keras version: {}\".format(tf.__version__))\n",
    "print(\"Running keras version: {}\".format(tf.keras.__version__))\n",
    "print(\"Num GPUs Available: \", len(tf.config.experimental.list_physical_devices('GPU')))\n",
    "tf.config.experimental.list_physical_devices('GPU')\n",
    "\n",
    "gpus = tf.config.experimental.list_physical_devices('GPU')\n",
    "if gpus:\n",
    "  # Restrict TensorFlow to only allocate 2GB of memory on the first GPU\n",
    "  try:\n",
    "    tf.config.experimental.set_virtual_device_configuration(\n",
    "        gpus[0],\n",
    "        [tf.config.experimental.VirtualDeviceConfiguration(memory_limit=1024)])\n",
    "    logical_gpus = tf.config.experimental.list_logical_devices('GPU')\n",
    "    print(len(gpus), \"Physical GPUs,\", len(logical_gpus), \"Logical GPUs\")\n",
    "  except RuntimeError as e:\n",
    "    # Virtual devices must be set before GPUs have been initialized\n",
    "    print(e)"
   ]
  },
  {
   "cell_type": "code",
   "execution_count": 4,
   "id": "17786444",
   "metadata": {},
   "outputs": [],
   "source": [
    "import numpy as np # linear algebra\n",
    "import pandas as pd # data processing, CSV file I/O (e.g. pd.read_csv)\n",
    "import os\n",
    "import cv2"
   ]
  },
  {
   "cell_type": "code",
   "execution_count": 5,
   "id": "a1dd4028",
   "metadata": {},
   "outputs": [],
   "source": [
    "new_data = np.load('C://Users//hp//Desktop//Driver Drowsiness Detection System [Driver Alert]//Drowsiness Detection Approaches [ with Source Code ]//Approach B//Numpy Data//when-SF-1_044.npy', allow_pickle=True)"
   ]
  },
  {
   "cell_type": "code",
   "execution_count": 6,
   "id": "930817a3",
   "metadata": {},
   "outputs": [
    {
     "data": {
      "text/plain": [
       "array([[array([[[  0, 255,   0],\n",
       "                [  0, 255,   0],\n",
       "                [  0, 255,   0],\n",
       "                ...,\n",
       "                [  0, 255,   0],\n",
       "                [  0, 255,   0],\n",
       "                [  0, 255,   0]],\n",
       "\n",
       "               [[  0, 255,   0],\n",
       "                [ 60,  66,  65],\n",
       "                [ 34,  40,  39],\n",
       "                ...,\n",
       "                [100, 106, 105],\n",
       "                [104, 110, 109],\n",
       "                [ 42, 196,  44]],\n",
       "\n",
       "               [[  0, 255,   0],\n",
       "                [ 33,  39,  38],\n",
       "                [ 17,  23,  22],\n",
       "                ...,\n",
       "                [109, 115, 114],\n",
       "                [110, 116, 115],\n",
       "                [ 44, 198,  46]],\n",
       "\n",
       "               ...,\n",
       "\n",
       "               [[  0, 255,   0],\n",
       "                [ 96,  75,  54],\n",
       "                [ 99,  76,  54],\n",
       "                ...,\n",
       "                [152, 130, 118],\n",
       "                [103,  75,  60],\n",
       "                [ 44, 183,  24]],\n",
       "\n",
       "               [[  0, 255,   0],\n",
       "                [ 97,  73,  55],\n",
       "                [ 99,  75,  55],\n",
       "                ...,\n",
       "                [231, 208, 192],\n",
       "                [108,  77,  58],\n",
       "                [ 39, 177,  16]],\n",
       "\n",
       "               [[  0, 255,   0],\n",
       "                [ 39, 181,  23],\n",
       "                [ 40, 182,  23],\n",
       "                ...,\n",
       "                [101, 244,  85],\n",
       "                [ 63, 203,  43],\n",
       "                [ 14, 221,   4]]], dtype=uint8), 0],\n",
       "       [array([[[  0, 255,   0],\n",
       "                [  0, 255,   0],\n",
       "                [  0, 255,   0],\n",
       "                ...,\n",
       "                [  0, 255,   0],\n",
       "                [  0, 255,   0],\n",
       "                [  0, 255,   0]],\n",
       "\n",
       "               [[  0, 255,   0],\n",
       "                [  8, 127,  10],\n",
       "                [ 10,  81,  14],\n",
       "                ...,\n",
       "                [ 64, 139,  82],\n",
       "                [ 79, 153,  93],\n",
       "                [ 22, 232,  24]],\n",
       "\n",
       "               [[  0, 255,   0],\n",
       "                [ 11,  82,  14],\n",
       "                [ 15,  19,  20],\n",
       "                ...,\n",
       "                [ 93, 101, 119],\n",
       "                [115, 124, 136],\n",
       "                [ 33, 227,  37]],\n",
       "\n",
       "               ...,\n",
       "\n",
       "               [[  0, 255,   0],\n",
       "                [ 54, 152, 130],\n",
       "                [ 74, 114, 179],\n",
       "                ...,\n",
       "                [252, 251, 255],\n",
       "                [253, 252, 254],\n",
       "                [ 62, 254,  62]],\n",
       "\n",
       "               [[  0, 255,   0],\n",
       "                [ 55, 153, 130],\n",
       "                [ 76, 116, 181],\n",
       "                ...,\n",
       "                [252, 251, 253],\n",
       "                [253, 253, 255],\n",
       "                [ 62, 255,  62]],\n",
       "\n",
       "               [[  0, 255,   0],\n",
       "                [ 14, 230,  32],\n",
       "                [ 19, 221,  44],\n",
       "                ...,\n",
       "                [ 62, 254,  62],\n",
       "                [ 62, 255,  62],\n",
       "                [ 15, 255,  15]]], dtype=uint8), 0],\n",
       "       [array([[[  0, 255,   0],\n",
       "                [  0, 255,   0],\n",
       "                [  0, 255,   0],\n",
       "                ...,\n",
       "                [  0, 255,   0],\n",
       "                [  0, 255,   0],\n",
       "                [  0, 255,   0]],\n",
       "\n",
       "               [[  0, 255,   0],\n",
       "                [  0, 255,   0],\n",
       "                [  0, 255,   0],\n",
       "                ...,\n",
       "                [  0, 255,   0],\n",
       "                [  0, 255,   0],\n",
       "                [  0, 255,   0]],\n",
       "\n",
       "               [[  0, 255,   0],\n",
       "                [  0, 255,   0],\n",
       "                [  0, 255,   0],\n",
       "                ...,\n",
       "                [  0, 255,   0],\n",
       "                [  0, 255,   0],\n",
       "                [  0, 255,   0]],\n",
       "\n",
       "               ...,\n",
       "\n",
       "               [[  0, 255,   0],\n",
       "                [  0, 255,   0],\n",
       "                [  0, 255,   0],\n",
       "                ...,\n",
       "                [  7, 253,   5],\n",
       "                [  0, 255,   0],\n",
       "                [  0, 255,   0]],\n",
       "\n",
       "               [[  0, 255,   0],\n",
       "                [  0, 255,   0],\n",
       "                [  0, 255,   0],\n",
       "                ...,\n",
       "                [  0, 255,   0],\n",
       "                [  0, 255,   0],\n",
       "                [  0, 255,   0]],\n",
       "\n",
       "               [[  0, 255,   0],\n",
       "                [  0, 255,   0],\n",
       "                [  0, 255,   0],\n",
       "                ...,\n",
       "                [  0, 255,   0],\n",
       "                [  0, 255,   0],\n",
       "                [  0, 255,   0]]], dtype=uint8), 0],\n",
       "       ...,\n",
       "       [array([[[205, 203, 222],\n",
       "                [204, 202, 221],\n",
       "                [203, 201, 220],\n",
       "                ...,\n",
       "                [136, 137, 165],\n",
       "                [135, 136, 164],\n",
       "                [135, 136, 164]],\n",
       "\n",
       "               [[204, 202, 221],\n",
       "                [203, 201, 221],\n",
       "                [202, 200, 219],\n",
       "                ...,\n",
       "                [137, 137, 165],\n",
       "                [136, 136, 164],\n",
       "                [135, 136, 164]],\n",
       "\n",
       "               [[203, 200, 220],\n",
       "                [202, 200, 219],\n",
       "                [201, 199, 218],\n",
       "                ...,\n",
       "                [137, 138, 166],\n",
       "                [135, 137, 164],\n",
       "                [135, 136, 164]],\n",
       "\n",
       "               ...,\n",
       "\n",
       "               [[212, 205, 226],\n",
       "                [214, 207, 227],\n",
       "                [217, 210, 230],\n",
       "                ...,\n",
       "                [157, 149, 166],\n",
       "                [155, 147, 163],\n",
       "                [153, 146, 162]],\n",
       "\n",
       "               [[210, 203, 224],\n",
       "                [212, 205, 226],\n",
       "                [216, 209, 230],\n",
       "                ...,\n",
       "                [153, 145, 162],\n",
       "                [150, 142, 159],\n",
       "                [149, 142, 158]],\n",
       "\n",
       "               [[209, 202, 223],\n",
       "                [211, 204, 225],\n",
       "                [216, 209, 230],\n",
       "                ...,\n",
       "                [151, 143, 160],\n",
       "                [149, 141, 158],\n",
       "                [148, 140, 157]]], dtype=uint8), 3],\n",
       "       [array([[[ 72, 148, 197],\n",
       "                [ 71, 147, 196],\n",
       "                [ 70, 146, 195],\n",
       "                ...,\n",
       "                [ 81, 148, 217],\n",
       "                [ 79, 148, 217],\n",
       "                [ 79, 149, 218]],\n",
       "\n",
       "               [[ 54, 143, 205],\n",
       "                [ 53, 142, 204],\n",
       "                [ 51, 139, 203],\n",
       "                ...,\n",
       "                [ 64, 147, 226],\n",
       "                [ 65, 147, 227],\n",
       "                [ 63, 148, 228]],\n",
       "\n",
       "               [[ 45, 138, 194],\n",
       "                [ 42, 133, 190],\n",
       "                [ 39, 129, 188],\n",
       "                ...,\n",
       "                [ 59, 143, 223],\n",
       "                [ 60, 145, 225],\n",
       "                [ 60, 145, 226]],\n",
       "\n",
       "               ...,\n",
       "\n",
       "               [[114, 215, 254],\n",
       "                [114, 214, 255],\n",
       "                [112, 212, 254],\n",
       "                ...,\n",
       "                [ 86, 172, 248],\n",
       "                [ 86, 172, 248],\n",
       "                [ 87, 173, 249]],\n",
       "\n",
       "               [[118, 215, 253],\n",
       "                [118, 215, 253],\n",
       "                [117, 214, 252],\n",
       "                ...,\n",
       "                [ 86, 172, 248],\n",
       "                [ 87, 173, 249],\n",
       "                [ 88, 174, 250]],\n",
       "\n",
       "               [[118, 215, 253],\n",
       "                [118, 215, 253],\n",
       "                [117, 214, 252],\n",
       "                ...,\n",
       "                [ 87, 173, 249],\n",
       "                [ 88, 174, 250],\n",
       "                [ 90, 176, 252]]], dtype=uint8), 3],\n",
       "       [array([[[ 36,  75, 107],\n",
       "                [ 36,  75, 107],\n",
       "                [ 37,  76, 108],\n",
       "                ...,\n",
       "                [ 48,  85, 120],\n",
       "                [ 48,  86, 121],\n",
       "                [ 49,  87, 122]],\n",
       "\n",
       "               [[ 35,  74, 106],\n",
       "                [ 36,  75, 107],\n",
       "                [ 36,  75, 107],\n",
       "                ...,\n",
       "                [ 48,  85, 121],\n",
       "                [ 48,  86, 121],\n",
       "                [ 49,  87, 122]],\n",
       "\n",
       "               [[ 34,  73, 105],\n",
       "                [ 35,  74, 106],\n",
       "                [ 36,  75, 107],\n",
       "                ...,\n",
       "                [ 48,  85, 121],\n",
       "                [ 48,  86, 121],\n",
       "                [ 49,  87, 122]],\n",
       "\n",
       "               ...,\n",
       "\n",
       "               [[ 48,  90, 119],\n",
       "                [ 48,  89, 118],\n",
       "                [ 47,  89, 118],\n",
       "                ...,\n",
       "                [ 43,  79, 117],\n",
       "                [ 44,  80, 117],\n",
       "                [ 47,  83, 120]],\n",
       "\n",
       "               [[ 48,  90, 119],\n",
       "                [ 48,  90, 118],\n",
       "                [ 47,  89, 118],\n",
       "                ...,\n",
       "                [ 43,  79, 117],\n",
       "                [ 44,  80, 118],\n",
       "                [ 47,  83, 121]],\n",
       "\n",
       "               [[ 48,  90, 119],\n",
       "                [ 48,  90, 119],\n",
       "                [ 47,  90, 118],\n",
       "                ...,\n",
       "                [ 43,  79, 117],\n",
       "                [ 44,  80, 118],\n",
       "                [ 47,  83, 121]]], dtype=uint8), 3]], dtype=object)"
      ]
     },
     "execution_count": 6,
     "metadata": {},
     "output_type": "execute_result"
    }
   ],
   "source": [
    "new_data"
   ]
  },
  {
   "cell_type": "code",
   "execution_count": 7,
   "id": "adf40401",
   "metadata": {},
   "outputs": [
    {
     "data": {
      "text/plain": [
       "2421"
      ]
     },
     "execution_count": 7,
     "metadata": {},
     "output_type": "execute_result"
    }
   ],
   "source": [
    "len(new_data)"
   ]
  },
  {
   "cell_type": "code",
   "execution_count": 8,
   "id": "ec9b93b1",
   "metadata": {},
   "outputs": [],
   "source": [
    "X = []\n",
    "y = []\n",
    "for feature, label in new_data:\n",
    "    X.append(feature)\n",
    "    y.append(label)"
   ]
  },
  {
   "cell_type": "code",
   "execution_count": 9,
   "id": "05954e1d",
   "metadata": {},
   "outputs": [],
   "source": [
    "X = np.array(X)\n",
    "X = X.reshape(-1, 145, 145, 3)"
   ]
  },
  {
   "cell_type": "code",
   "execution_count": 10,
   "id": "1af6ffe3",
   "metadata": {},
   "outputs": [],
   "source": [
    "from sklearn.preprocessing import LabelBinarizer\n",
    "label_bin = LabelBinarizer()\n",
    "y = label_bin.fit_transform(y)"
   ]
  },
  {
   "cell_type": "code",
   "execution_count": 11,
   "id": "e3ddb736",
   "metadata": {},
   "outputs": [],
   "source": [
    "from sklearn.model_selection import train_test_split\n",
    "seed = 42\n",
    "test_size = 0.30\n",
    "X_train, X_test, y_train, y_test = train_test_split(X, y, random_state=seed, test_size=test_size)"
   ]
  },
  {
   "cell_type": "code",
   "execution_count": 12,
   "id": "fcb78678",
   "metadata": {},
   "outputs": [
    {
     "name": "stdout",
     "output_type": "stream",
     "text": [
      "727 727     1694 1694\n"
     ]
    }
   ],
   "source": [
    "print(len(X_test), len(y_test), \"   \", len(X_train), len(y_train))"
   ]
  },
  {
   "cell_type": "code",
   "execution_count": 13,
   "id": "65f3cd54",
   "metadata": {},
   "outputs": [
    {
     "name": "stdout",
     "output_type": "stream",
     "text": [
      "WARNING:tensorflow:From C:\\Users\\hp\\AppData\\Local\\Temp/ipykernel_22408/2247842835.py:7: is_gpu_available (from tensorflow.python.framework.test_util) is deprecated and will be removed in a future version.\n",
      "Instructions for updating:\n",
      "Use `tf.config.list_physical_devices('GPU')` instead.\n"
     ]
    },
    {
     "data": {
      "text/plain": [
       "True"
      ]
     },
     "execution_count": 13,
     "metadata": {},
     "output_type": "execute_result"
    }
   ],
   "source": [
    "from tensorflow.keras.layers import Input, Dense, Flatten, Conv2D, MaxPooling2D, Dropout\n",
    "from tensorflow.keras.models import Model\n",
    "from tensorflow.keras.models import Sequential\n",
    "from keras.preprocessing.image import ImageDataGenerator\n",
    "import tensorflow as tf\n",
    "import keras\n",
    "tf.test.is_gpu_available()"
   ]
  },
  {
   "cell_type": "code",
   "execution_count": 14,
   "id": "08b31cc1",
   "metadata": {},
   "outputs": [
    {
     "data": {
      "text/plain": [
       "[PhysicalDevice(name='/physical_device:GPU:0', device_type='GPU')]"
      ]
     },
     "execution_count": 14,
     "metadata": {},
     "output_type": "execute_result"
    }
   ],
   "source": [
    "tf.config.list_physical_devices('GPU')"
   ]
  },
  {
   "cell_type": "code",
   "execution_count": 15,
   "id": "5f29285a",
   "metadata": {},
   "outputs": [],
   "source": [
    "train_generator = ImageDataGenerator(rescale=1/255, zoom_range=0.2, horizontal_flip=True, rotation_range=30)\n",
    "test_generator = ImageDataGenerator(rescale=1/255)\n",
    "\n",
    "train_generator = train_generator.flow(np.array(X_train), y_train, shuffle=False)\n",
    "test_generator = test_generator.flow(np.array(X_test), y_test, shuffle=False)"
   ]
  },
  {
   "cell_type": "code",
   "execution_count": 16,
   "id": "d7778d1f",
   "metadata": {},
   "outputs": [
    {
     "name": "stdout",
     "output_type": "stream",
     "text": [
      "Model: \"sequential\"\n",
      "_________________________________________________________________\n",
      " Layer (type)                Output Shape              Param #   \n",
      "=================================================================\n",
      " conv2d (Conv2D)             (None, 144, 144, 256)     3328      \n",
      "                                                                 \n",
      " max_pooling2d (MaxPooling2D  (None, 72, 72, 256)      0         \n",
      " )                                                               \n",
      "                                                                 \n",
      " conv2d_1 (Conv2D)           (None, 71, 71, 128)       131200    \n",
      "                                                                 \n",
      " max_pooling2d_1 (MaxPooling  (None, 35, 35, 128)      0         \n",
      " 2D)                                                             \n",
      "                                                                 \n",
      " conv2d_2 (Conv2D)           (None, 34, 34, 64)        32832     \n",
      "                                                                 \n",
      " max_pooling2d_2 (MaxPooling  (None, 17, 17, 64)       0         \n",
      " 2D)                                                             \n",
      "                                                                 \n",
      " conv2d_3 (Conv2D)           (None, 16, 16, 32)        8224      \n",
      "                                                                 \n",
      " max_pooling2d_3 (MaxPooling  (None, 8, 8, 32)         0         \n",
      " 2D)                                                             \n",
      "                                                                 \n",
      " flatten (Flatten)           (None, 2048)              0         \n",
      "                                                                 \n",
      " dropout (Dropout)           (None, 2048)              0         \n",
      "                                                                 \n",
      " dense (Dense)               (None, 64)                131136    \n",
      "                                                                 \n",
      " dense_1 (Dense)             (None, 4)                 260       \n",
      "                                                                 \n",
      "=================================================================\n",
      "Total params: 306,980\n",
      "Trainable params: 306,980\n",
      "Non-trainable params: 0\n",
      "_________________________________________________________________\n"
     ]
    }
   ],
   "source": [
    "model = Sequential()\n",
    "\n",
    "model.add(Conv2D(256, (2, 2), activation=\"relu\", input_shape=X_train.shape[1:]))\n",
    "model.add(MaxPooling2D(2, 2))\n",
    "\n",
    "model.add(Conv2D(128, (2, 2), activation=\"relu\"))\n",
    "model.add(MaxPooling2D(2, 2))\n",
    "\n",
    "model.add(Conv2D(64, (2, 2), activation=\"relu\"))\n",
    "model.add(MaxPooling2D(2, 2))\n",
    "\n",
    "model.add(Conv2D(32, (2, 2), activation=\"relu\"))\n",
    "model.add(MaxPooling2D(2, 2))\n",
    "\n",
    "model.add(Flatten())\n",
    "model.add(Dropout(0.5))\n",
    "\n",
    "model.add(Dense(64, activation=\"relu\"))\n",
    "model.add(Dense(4, activation=\"softmax\"))\n",
    "\n",
    "model.compile(loss=\"categorical_crossentropy\", metrics=[\"accuracy\"], optimizer=\"adam\")\n",
    "\n",
    "model.summary()"
   ]
  },
  {
   "cell_type": "code",
   "execution_count": null,
   "id": "d5ec22b7",
   "metadata": {},
   "outputs": [
    {
     "name": "stdout",
     "output_type": "stream",
     "text": [
      "Epoch 1/2\n"
     ]
    }
   ],
   "source": [
    "history = model.fit(train_generator, epochs=2, validation_data=test_generator, shuffle=True, batch_size=1)"
   ]
  },
  {
   "cell_type": "code",
   "execution_count": null,
   "id": "6acc407a",
   "metadata": {},
   "outputs": [],
   "source": []
  }
 ],
 "metadata": {
  "kernelspec": {
   "display_name": "Env_GPU_2",
   "language": "python",
   "name": "env_gpu_2"
  },
  "language_info": {
   "codemirror_mode": {
    "name": "ipython",
    "version": 3
   },
   "file_extension": ".py",
   "mimetype": "text/x-python",
   "name": "python",
   "nbconvert_exporter": "python",
   "pygments_lexer": "ipython3",
   "version": "3.9.7"
  }
 },
 "nbformat": 4,
 "nbformat_minor": 5
}
